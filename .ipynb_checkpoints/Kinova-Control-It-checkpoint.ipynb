{
 "cells": [
  {
   "cell_type": "code",
   "execution_count": 1,
   "metadata": {},
   "outputs": [],
   "source": [
    "TRAIN = 0"
   ]
  },
  {
   "cell_type": "code",
   "execution_count": 2,
   "metadata": {},
   "outputs": [],
   "source": [
    "from mujoco_py import load_model_from_xml, load_model_from_path, MjSim, MjViewer\n",
    "import math\n",
    "import os\n",
    "import numpy as np\n",
    "\n",
    "from mujoco_py.modder import TextureModder\n",
    "\n",
    "class manipulator():\n",
    "    def __init__(self):\n",
    "        \n",
    "        if TRAIN:\n",
    "            self.is_render = 0\n",
    "        else:\n",
    "            self.is_render = 1\n",
    "        self.DoF = DoF = 9\n",
    "        self.model = load_model_from_path(\"jaco.xml\")\n",
    "        self.state_dim = DoF*3+3\n",
    "        self.action_dim = DoF\n",
    "        \n",
    "    def reset(self):\n",
    "        self.rx, self.ry, self.rz = 0., -0.2, 0.2\n",
    "                \n",
    "        self.sim = MjSim(self.model)\n",
    "        if self.is_render: self.viewer = MjViewer(self.sim)\n",
    "        self.qvel=np.zeros( self.DoF )\n",
    "        \n",
    "        s = []\n",
    "        for i in range(self.DoF):\n",
    "            s.append( self.qvel[i] )\n",
    "        for i in range(self.DoF):\n",
    "            s.append( self.sim.data.qvel[i] )\n",
    "        for i in range(self.DoF):\n",
    "            s.append( self.sim.data.qpos[i] )\n",
    "        s.append( self.rx )\n",
    "        s.append( self.ry )\n",
    "        s.append( self.rz )\n",
    "        \n",
    "        return s\n",
    "    def step(self, a):\n",
    "        for i in range(self.DoF):\n",
    "            if (i==2):\n",
    "                self.qvel[i] += a[i]\n",
    "                self.sim.data.qvel[i] = self.qvel[i] \n",
    "            else:\n",
    "                self.sim.data.qvel[i] = 0\n",
    "                self.sim.data.qpos[i] = 0 \n",
    "\n",
    "\n",
    "        \n",
    "        self.sim.step()\n",
    "        if self.is_render: self.viewer.render()\n",
    "\n",
    "        dis = np.linalg.norm(self.sim.data.sensordata[-3:]-[self.rx, self.ry, self.rz])\n",
    "        print(\"dis: \", dis)\n",
    "#         dis = 0\n",
    "\n",
    "        s = []\n",
    "        for i in range(self.DoF):\n",
    "            s.append( self.qvel[i] )\n",
    "        for i in range(self.DoF):\n",
    "            s.append( self.sim.data.qvel[i] )\n",
    "        for i in range(self.DoF):\n",
    "            s.append( self.sim.data.qpos[i] )\n",
    "        s.append( self.rx )\n",
    "        s.append( self.ry )\n",
    "        s.append( self.rz )\n",
    "        \n",
    "        r = -dis\n",
    "        d = 0\n",
    "        info = [dis]\n",
    "        return s, r, d, info"
   ]
  },
  {
   "cell_type": "code",
   "execution_count": 3,
   "metadata": {},
   "outputs": [],
   "source": [
    "env = manipulator()\n",
    "MAX_EPISODES = 1\n",
    "MAX_EP_STEPS = 5000\n",
    "\n",
    "trange = range"
   ]
  },
  {
   "cell_type": "code",
   "execution_count": 4,
   "metadata": {},
   "outputs": [
    {
     "name": "stdout",
     "output_type": "stream",
     "text": [
      "Creating window glfw\n"
     ]
    }
   ],
   "source": [
    "for i in trange(MAX_EPISODES):\n",
    "#     print(\"i: \", i)\n",
    "    s = env.reset()\n",
    "    dis_save = []\n",
    "    ep_reward = 0\n",
    "    s_save = []\n",
    "    for j in range(MAX_EP_STEPS):\n",
    "        # Add exploration noise\n",
    "#         ddpg.choose_action(s)\n",
    "        a = (np.random.rand(env.DoF)-0.5)*2*0.2\n",
    "        \n",
    "        # print(\"a: \", a)\n",
    "        s_, r, done, info = env.step(a)\n",
    "        # print(\"r: \", r)\n",
    "#         ddpg.store_transition(s, a, r, s_)\n",
    "        \n",
    "        s_save.append( s )\n",
    "    \n",
    "        s = s_\n",
    "        ep_reward += r\n",
    "        dis = -info[0]\n",
    "        dis_save.append( dis )"
   ]
  },
  {
   "cell_type": "markdown",
   "metadata": {},
   "source": [
    "Arm 6 DoF\n",
    "\n",
    "Gripper 3 DoF"
   ]
  },
  {
   "cell_type": "code",
   "execution_count": null,
   "metadata": {},
   "outputs": [],
   "source": []
  }
 ],
 "metadata": {
  "kernelspec": {
   "display_name": "Python 3",
   "language": "python",
   "name": "python3"
  },
  "language_info": {
   "codemirror_mode": {
    "name": "ipython",
    "version": 3
   },
   "file_extension": ".py",
   "mimetype": "text/x-python",
   "name": "python",
   "nbconvert_exporter": "python",
   "pygments_lexer": "ipython3",
   "version": "3.5.2"
  }
 },
 "nbformat": 4,
 "nbformat_minor": 2
}
